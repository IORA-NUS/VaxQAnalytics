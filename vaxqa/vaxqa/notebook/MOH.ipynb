{
 "cells": [
  {
   "cell_type": "markdown",
   "metadata": {},
   "source": [
    "## Imports"
   ]
  },
  {
   "cell_type": "code",
   "execution_count": 1,
   "metadata": {},
   "outputs": [],
   "source": [
    "import sys\n",
    "import os\n",
    "import pandas as pd\n",
    "import time\n",
    "import math\n",
    "import random\n",
    "import itertools\n",
    "# from gurobipy import *\n",
    "from math import sqrt\n",
    "import pandas as pd\n",
    "import numpy as np\n",
    "import matplotlib\n",
    "import matplotlib.pyplot as plt\n",
    "# import xlrd\n",
    "# from gurobipy import *\n",
    "from math import sqrt\n",
    "import pandas as pd\n",
    "import numpy as np\n",
    "import matplotlib\n",
    "import matplotlib.pyplot as plt\n",
    "# import xlrd\n",
    "import matplotlib.pyplot as plt\n",
    "import numpy as np\n",
    "# import scipy.stats as stats\n",
    "import math\n",
    "import csv\n"
   ]
  },
  {
   "cell_type": "markdown",
   "metadata": {},
   "source": [
    "## Main Function"
   ]
  },
  {
   "cell_type": "markdown",
   "metadata": {},
   "source": [
    "Set paths and change variables here, then execute the next cell"
   ]
  },
  {
   "cell_type": "code",
   "execution_count": 2,
   "metadata": {},
   "outputs": [
    {
     "name": "stdout",
     "output_type": "stream",
     "text": [
      "24\n",
      "64\n"
     ]
    }
   ],
   "source": [
    "\n",
    "    \n",
    "    \n",
    "    #Set parameters\n",
    "    N = 2000\n",
    "    As = N/840\n",
    "    \n",
    "    s1 = 4\n",
    "    s2 = 4\n",
    "    s3 = 30\n",
    "    mu1 =  1/s1\n",
    "    mu2 = 1/s2\n",
    "    mu3 = 1/s3\n",
    "    k1 = 12\n",
    "    k2 = 16\n",
    "    k3 = 100\n",
    "    \n",
    "    \n",
    "    print(math.factorial(4))\n",
    "    print(pow(4,3))"
   ]
  },
  {
   "cell_type": "code",
   "execution_count": 2,
   "metadata": {},
   "outputs": [
    {
     "name": "stdout",
     "output_type": "stream",
     "text": [
      "(2200, 4, 4, 30, 12, 16, 80, 'nan', 'nan', 'nan', 'nan')\n"
     ]
    }
   ],
   "source": [
    "def simulateQ(N,s1,s2,s3,k1,k2,k3):\n",
    "#     As = N/840\n",
    "    As = N/660\n",
    "    mu1 =  1/s1\n",
    "    mu2 = 1/s2\n",
    "    mu3 = 1/s3\n",
    "    rho1 = As/(k1*mu1)\n",
    "    rho2 = As/(k2*mu2)\n",
    "    rho3 = As/(k3*mu3)\n",
    "    \n",
    "    if rho1 >= 1:\n",
    "        return (N,s1,s2,s3,k1,k2,k3,'nan','nan','nan','nan')\n",
    "    if rho2 >= 1:\n",
    "        return (N,s1,s2,s3,k1,k2,k3,'nan','nan','nan','nan')\n",
    "    if rho3 >= 1:\n",
    "        return (N,s1,s2,s3,k1,k2,k3,'nan','nan','nan','nan')\n",
    "    \n",
    "    #Compute W1, \n",
    "    One_over_P0 = pow(k1*rho1,k1)/((1-rho1)*math.factorial(k1))\n",
    "    for m in range(k1):\n",
    "        One_over_P0 += pow(k1*rho1,m)/(math.factorial(m))\n",
    "    P0 = 1/One_over_P0\n",
    "    L1 = P0*rho1*pow(k1*rho1,k1)/(math.factorial(k1)*pow(1-rho1,2))\n",
    "    W1 = L1 / As\n",
    "    \n",
    "    #Compute W2, \n",
    "    One_over_P0 = pow(k2*rho2,k2)/((1-rho2)*math.factorial(k2))\n",
    "    for m in range(k2):\n",
    "        One_over_P0 += pow(k2*rho2,m)/(math.factorial(m))\n",
    "    P0 = 1/One_over_P0\n",
    "    L2 = P0*rho2*pow(k2*rho2,k2)/(math.factorial(k2)*pow(1-rho2,2))\n",
    "    W2 = L2 / As\n",
    "    \n",
    "    #Compute W3, \n",
    "    P3_num = k3*pow(As,k3) / (pow(mu3,k3-1)*(k3*mu3-As)*math.factorial(k3))\n",
    "    \n",
    "    P3_denom = P3_num\n",
    "    for m in range(k3):\n",
    "        P3_denom += pow(As,m)/(pow(mu3,m)*math.factorial(m))\n",
    "    \n",
    "    \n",
    "    P3 = P3_num / P3_denom\n",
    "    W3 = (s3/k3+1)*P3/(1-rho3)\n",
    "    L3 = W3*As\n",
    "    \n",
    "    return (N,s1,s2,s3,k1,k2,k3,W1,W2,W3,L3)\n",
    "    \n",
    "print(simulateQ(2200,4,4,30,12,16,80))\n"
   ]
  },
  {
   "cell_type": "code",
   "execution_count": 3,
   "metadata": {},
   "outputs": [
    {
     "name": "stdout",
     "output_type": "stream",
     "text": [
      "N0: 1500\n",
      "N0: 1550\n",
      "N0: 1600\n",
      "N0: 1650\n",
      "N0: 1700\n",
      "N0: 1750\n",
      "N0: 1800\n",
      "N0: 1850\n",
      "N0: 1900\n",
      "N0: 1950\n",
      "N0: 2000\n",
      "N0: 2050\n",
      "N0: 2100\n",
      "N0: 2150\n",
      "N0: 2200\n",
      "N0: 2250\n",
      "N0: 2300\n",
      "N0: 2350\n",
      "N0: 2400\n",
      "N0: 2450\n",
      "N0: 2500\n"
     ]
    }
   ],
   "source": [
    "# results_list = []\n",
    "# N0 = 1600\n",
    "# while N0 < 2400:\n",
    "#     k10 = 12\n",
    "#     while k10 < 18:\n",
    "#         k20 = 15\n",
    "#         while k20 < 20:\n",
    "#             k30 = 75\n",
    "#             while k30 < 120:\n",
    "#                 s1 = 3\n",
    "#                 while s1 < 6:\n",
    "#                     s2 = 3\n",
    "#                     while s2 < 6:\n",
    "#                         s3 = 20\n",
    "#                         while s3 < 35:\n",
    "# #                             x=simulateQ(N0,4,4,30,k10,k20,k30)\n",
    "#                             x=simulateQ(N0,s1,s2,s3,k10,k20,k30)\n",
    "#                             results_list.append(x)\n",
    "#                             print(N0,k10,k20,k30,s1,s2,s3)\n",
    "#                             s3 += 5\n",
    "#                         s2 += 1\n",
    "#                     s1+=1\n",
    "#                 k30 +=1\n",
    "            \n",
    "#             k20 += 1\n",
    "        \n",
    "#         k10 += 1\n",
    "    \n",
    "#     N0 += 25\n",
    "\n",
    "\n",
    "fields = ['NoPerDay', 'RegistrationTime', 'VaccineTime', 'WaitingTime' ,'RegistrationDesks','VaccineDesks','SeatingCap','W1','W2','W3','QueueOutside'] \n",
    "\n",
    "    \n",
    "with open('results_20210504.csv', 'w+') as f:\n",
    "    write = csv.writer(f)\n",
    "    write.writerow(fields)\n",
    "\n",
    "    try:\n",
    "        for N0 in range(1500, 2501, 50): # NoPerDay\n",
    "            for k10 in range (7, 21, 1): # RegistrationDesks\n",
    "                for k20 in range(8, 21, 1): # VaccineDesks\n",
    "                    for k30 in range(40, 151): # SeatingCap\n",
    "                        for s1 in range(3, 6): # RegistrationTime\n",
    "                            for s2 in range(3, 6): # VaccineTime\n",
    "                                for s3 in range(15, 31, 5): # WaitingTime Observation area\n",
    "                                    x=simulateQ(N0,s1,s2,s3,k10,k20,k30)\n",
    "                                    if x[-1] != 'nan':\n",
    "                                        write.writerow([f'{val:0.2f}' if type(val)==float else f'{val}' for val in x])\n",
    "                                    \n",
    "#                         raise Exception('dummy')\n",
    "            print(f\"N0: {N0}\")\n",
    "    except Exception as e:\n",
    "        print(e)\n",
    "        pass\n",
    "\n",
    "\n",
    "  \n",
    "  \n",
    "# field names \n",
    "\n",
    "    \n",
    "# # data rows of csv file \n",
    "# rows = results_list\n",
    "# with open('results2.csv', 'w') as f:\n",
    "      \n",
    "#     # using csv.writer method from CSV package\n",
    "#     write = csv.writer(f)\n",
    "      \n",
    "#     write.writerow(fields)\n",
    "#     write.writerows(rows)"
   ]
  },
  {
   "cell_type": "code",
   "execution_count": null,
   "metadata": {},
   "outputs": [],
   "source": []
  }
 ],
 "metadata": {
  "kernelspec": {
   "display_name": "Python 3",
   "language": "python",
   "name": "python3"
  },
  "language_info": {
   "codemirror_mode": {
    "name": "ipython",
    "version": 3
   },
   "file_extension": ".py",
   "mimetype": "text/x-python",
   "name": "python",
   "nbconvert_exporter": "python",
   "pygments_lexer": "ipython3",
   "version": "3.8.5"
  }
 },
 "nbformat": 4,
 "nbformat_minor": 2
}
