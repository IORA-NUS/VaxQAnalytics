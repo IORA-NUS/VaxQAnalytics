{
 "cells": [
  {
   "cell_type": "markdown",
   "metadata": {},
   "source": [
    "## Imports"
   ]
  },
  {
   "cell_type": "code",
   "execution_count": 5,
   "metadata": {},
   "outputs": [],
   "source": [
    "import sys\n",
    "import os\n",
    "import pandas as pd\n",
    "import time\n",
    "import math\n",
    "import random\n",
    "import itertools\n",
    "from gurobipy import *\n",
    "from math import sqrt\n",
    "import pandas as pd\n",
    "import numpy as np\n",
    "import matplotlib\n",
    "import matplotlib.pyplot as plt\n",
    "import xlrd\n",
    "from gurobipy import *\n",
    "from math import sqrt\n",
    "import pandas as pd\n",
    "import numpy as np\n",
    "import matplotlib\n",
    "import matplotlib.pyplot as plt\n",
    "import xlrd\n",
    "import matplotlib.pyplot as plt\n",
    "import numpy as np\n",
    "import scipy.stats as stats\n",
    "import math\n",
    "import csv\n"
   ]
  },
  {
   "cell_type": "markdown",
   "metadata": {},
   "source": [
    "## Main Function"
   ]
  },
  {
   "cell_type": "markdown",
   "metadata": {},
   "source": [
    "Set paths and change variables here, then execute the next cell"
   ]
  },
  {
   "cell_type": "code",
   "execution_count": 9,
   "metadata": {},
   "outputs": [
    {
     "name": "stdout",
     "output_type": "stream",
     "text": [
      "(2200, 4, 4, 30, 12, 16, 80, 88, 4, 3778, 164.90261577259616, 233, 10, 9993, 437, 260, 11, 11183, 489)\n"
     ]
    }
   ],
   "source": [
    "def simulateQ(N,s1,s2,s3,k1,k2,k3):\n",
    "    As = N/840\n",
    "    mu1 =  1/s1\n",
    "    mu2 = 1/s2\n",
    "    mu3 = 1/s3\n",
    "    rho1 = As/(k1*mu1)\n",
    "    rho2 = As/(k2*mu2)\n",
    "    rho3 = As/(k3*mu3)\n",
    "    \n",
    "    if rho1 >= 1:\n",
    "        return (N,s1,s2,s3,k1,k2,k3,'x','x','x','x')\n",
    "    if rho2 >= 1:\n",
    "        return (N,s1,s2,s3,k1,k2,k3,'x','x','x','x')\n",
    "    if rho3 >= 1:\n",
    "        return (N,s1,s2,s3,k1,k2,k3,'x','x','x','x')\n",
    "    \n",
    "    #Compute W1, \n",
    "    One_over_P0 = pow(k1*rho1,k1)/((1-rho1)*(math.sqrt(2*math.pi*k1)*(k1/math.e)**k1))\n",
    "    for m in range(1,k1):\n",
    "        One_over_P0 += pow(k1*rho1,m)/(math.sqrt(2*math.pi*m)*(m/math.e)**m)\n",
    "    P0 = 1/One_over_P0\n",
    "    L1 = P0*rho1*pow(k1*rho1,k1)/((math.sqrt(2*math.pi*k1)*(k1/math.e)**k1)*pow(1-rho1,2))\n",
    "    W1 = L1 / As\n",
    "    \n",
    "    #Compute W2, \n",
    "    One_over_P0 = pow(k2*rho2,k2)/((1-rho2)*(math.sqrt(2*math.pi*k2)*(k2/math.e)**k2))\n",
    "    for m in range(1,k2):\n",
    "        One_over_P0 += pow(k2*rho2,m)/(math.sqrt(2*math.pi*m)*(m/math.e)**m)\n",
    "    P0 = 1/One_over_P0\n",
    "    L2 = P0*rho2*pow(k2*rho2,k2)/(((math.sqrt(2*math.pi*k2)*(k2/math.e)**k2))*pow(1-rho2,2))\n",
    "    W2 = L2 / As\n",
    "    \n",
    "    #Compute W3, \n",
    "    P3_num = k3*pow(As,k3) / (pow(mu3,k3-1)*(k3*mu3-As)*((math.sqrt(2*math.pi*k3)*(k3/math.e)**k3)))\n",
    "    \n",
    "    P3_denom = P3_num\n",
    "    for m in range(1,k3):\n",
    "        P3_denom += pow(As,m)/(pow(mu3,m)*(math.sqrt(2*math.pi*m)*(m/math.e)**m))\n",
    "    \n",
    "    \n",
    "    P3 = P3_num / P3_denom\n",
    "    W3 = (s3/k3+1)*P3/(1-rho3)\n",
    "    L3 = W3*As\n",
    "    \n",
    "    W190 = W1*(2.645)\n",
    "    W195 = W1*(2.960)\n",
    "    W290 = W2*(2.645)\n",
    "    W295 = W2*(2.960)\n",
    "    W390 = W3*(2.645)\n",
    "    W395 = W3*(2.960)\n",
    "    L390 = L3*(2.645)\n",
    "    L395 = L3*(2.960)\n",
    "    \n",
    "    W1s = math.ceil(W1*60) \n",
    "    W2s = math.ceil(W2*60) \n",
    "    W3s = math.ceil(W3*60) \n",
    "    W190s = math.ceil(W190*60) \n",
    "    W290s = math.ceil(W290*60) \n",
    "    W390s = math.ceil(W390*60) \n",
    "    W195s = math.ceil(W195*60) \n",
    "    W295s = math.ceil(W295*60) \n",
    "    W395s = math.ceil(W395*60) \n",
    "    L390 =  math.ceil(L390)\n",
    "    L395 =  math.ceil(L395)\n",
    "\n",
    "    return (N,s1,s2,s3,k1,k2,k3,W1s,W2s,W3s,L3,W190s,W290s,W390s,L390,W195s,W295s,W395s,L395)\n",
    "    \n",
    "print(simulateQ(2200,4,4,30,12,16,80))\n"
   ]
  },
  {
   "cell_type": "code",
   "execution_count": null,
   "metadata": {},
   "outputs": [],
   "source": [
    "results_list = []\n",
    "N0 = 1500\n",
    "while N0 < 2550:\n",
    "    k10 = 7\n",
    "    while k10 < 21:\n",
    "        k20 = 8\n",
    "        while k20 < 21:\n",
    "            k30 = 40\n",
    "            while k30 < 150:\n",
    "                s1 = 3\n",
    "                while s1 < 5.5:\n",
    "                    s2 = 3\n",
    "                    while s2 < 5.5:\n",
    "                        s3 = 15\n",
    "                        while s3 < 35:\n",
    "                            x=simulateQ(N0,s1,s2,s3,k10,k20,k30)\n",
    "                            results_list.append(x)\n",
    "                            #print(N0,k10,k20,k30,s1,s2,s3)\n",
    "                            s3 += 5\n",
    "                        s2 += 0.5\n",
    "                    s1+=0.5\n",
    "                k30 +=2\n",
    "            \n",
    "            k20 += 1\n",
    "        \n",
    "        k10 += 1\n",
    "    \n",
    "    N0 += 50\n",
    "    \n",
    "\n",
    "  \n",
    "  \n",
    "# field names \n",
    "\n",
    "fields = ['NoPerDay', 'RegistrationTime', 'VaccineTime', 'WaitingTime' ,'RegistrationDesks','VaccineDesks','SeatingCap','W1','W2','W3','QueueOutside'] \n",
    "    \n",
    "# data rows of csv file \n",
    "rows = results_list\n",
    "with open('resultsMay27final2-inSeconds.csv', 'w') as f:\n",
    "      \n",
    "    # using csv.writer method from CSV package\n",
    "    write = csv.writer(f)\n",
    "      \n",
    "    write.writerow(fields)\n",
    "    write.writerows(rows)"
   ]
  },
  {
   "cell_type": "code",
   "execution_count": null,
   "metadata": {},
   "outputs": [],
   "source": []
  },
  {
   "cell_type": "code",
   "execution_count": null,
   "metadata": {},
   "outputs": [],
   "source": []
  }
 ],
 "metadata": {
  "kernelspec": {
   "display_name": "Python 3",
   "language": "python",
   "name": "python3"
  },
  "language_info": {
   "codemirror_mode": {
    "name": "ipython",
    "version": 3
   },
   "file_extension": ".py",
   "mimetype": "text/x-python",
   "name": "python",
   "nbconvert_exporter": "python",
   "pygments_lexer": "ipython3",
   "version": "3.8.5"
  }
 },
 "nbformat": 4,
 "nbformat_minor": 2
}
